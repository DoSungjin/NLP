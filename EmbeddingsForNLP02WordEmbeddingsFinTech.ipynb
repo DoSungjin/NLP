{
  "cells": [
    {
      "cell_type": "markdown",
      "metadata": {
        "id": "view-in-github",
        "colab_type": "text"
      },
      "source": [
        "<a href=\"https://colab.research.google.com/github/sungjindo/NLP/blob/main/EmbeddingsForNLP02WordEmbeddingsFinTech.ipynb\" target=\"_parent\"><img src=\"https://colab.research.google.com/assets/colab-badge.svg\" alt=\"Open In Colab\"/></a>"
      ]
    },
    {
      "cell_type": "markdown",
      "metadata": {
        "id": "WeJhcby4nLnL"
      },
      "source": [
        "# Deep Learning Methods for Text Data - Word2Vec, GloVe and FastText\n",
        "- based on the \"A hands-on intuitive approach to Deep Learning Methods for Text Data - Word2Vec, Glove and FastText\n",
        "- https://towardsdatascience.com/understanding-feature-engineering-part-4-deep-learning-methods-for-text-data-96c44370bbfa\n",
        "- added new pytorch version of word2vec instead of Keras"
      ]
    },
    {
      "cell_type": "markdown",
      "metadata": {
        "id": "JwXXmkdonLnQ"
      },
      "source": [
        "## The need for word embeddings\n",
        "- With regard to speech or image recognition systems, all the information is already present in the form of rich dense feature vectors embedded in high-dimensional datasets like audio spectrograms and image pixel intensities. \n",
        "- However when it comes to raw text data, especially count based models like Bag of Words, we are dealing with individual words which may have their own identifiers and do not capture the semantic relationship amongst words. \n",
        "- **This leads to huge sparse word vectors for textual data and thus if we do not have enough data, we may end up getting poor models or even overfitting the data due to the curse of dimensionality**.\n",
        "![](https://miro.medium.com/max/2140/1*JWjiZ0L6VmYGXGT5Ytrsng.png)\n",
        "- To overcome the shortcomings of losing out semantics and feature sparsity in bag of words model based features, we need to make use of Vector Space Models (VSMs) in such a way that we can embed word vectors in this continuous vector space based on semantic and contextual similarity.\n",
        "-  In fact the distributional hypothesis in the field of distributional semantics tells us that words which occur and are used in the same context, are semantically similar to one another and have similar meanings. \n",
        "- In simple terms, *‘a word is characterized by the company it keeps’*."
      ]
    },
    {
      "cell_type": "markdown",
      "metadata": {
        "id": "0w1-Hfc6nLnS"
      },
      "source": [
        "## The Word2Vec Model\n",
        "- This model was created by Google in 2013 and is a predictive deep learning based model to compute and generate high quality, distributed and continuous dense vector representations of words, which capture **contextual and semantic similarity**. \n",
        "- Essentially these are unsupervised models which can take in massive textual corpora, create a vocabulary of possible words and generate **dense word embeddings** for each word in the vector space representing that vocabulary. Usually you can specify the size of the word embedding vectors and the total number of vectors are essentially the size of the vocabulary. \n",
        "- This makes the dimensionality of this dense vector space much lower than the high-dimensional sparse vector space built using traditional Bag of Words models.\n",
        "- Two model Architectures\n",
        "    - The Continuous Bag of Words (CBOW) Model\n",
        "    - The Skip-gram Model\n",
        "- There were originally introduced by Mikolov et al. papers, *‘Distributed Representations of Words and Phrases and their Compositionality’*  *‘Efficient Estimation of Word Representations in Vector Space’* \n"
      ]
    },
    {
      "cell_type": "markdown",
      "metadata": {
        "id": "UzTa3NNKnLnT"
      },
      "source": [
        "Word2Vec is an iterative method. Its main idea is as follows:\n",
        "\n",
        "- take a huge text corpus;\n",
        "- go over the text with a sliding window, moving one word at a time. At each step, there is a central word and context - words (other words in this window);\n",
        "- for the central word, compute probabilities of context words;\n",
        "- adjust the vectors to increase these probabilities.\n",
        "\n",
        "<img src=\"https://lena-voita.github.io/resources/lectures/word_emb/w2v/window_prob1-min.png\" width=\"60%\">\n",
        "<img src=\"https://lena-voita.github.io/resources/lectures/word_emb/w2v/window_prob2-min.png\" width=\"60%\">\n",
        "<img src=\"https://lena-voita.github.io/resources/lectures/word_emb/w2v/window_prob3-min.png\" width=\"60%\">\n",
        "<img src=\"https://lena-voita.github.io/resources/lectures/word_emb/w2v/window_prob4-min.png\" width=\"60%\">\n",
        "<img src=\"https://lena-voita.github.io/resources/lectures/word_emb/w2v/window_prob5-min.png\" width=\"60%\">\n",
        "<img src=\"https://lena-voita.github.io/resources/lectures/word_emb/w2v/window_prob6-min.png\" width=\"60%\">\n"
      ]
    },
    {
      "cell_type": "markdown",
      "metadata": {
        "id": "KjA5PcBunLnU"
      },
      "source": [
        "### Objective Function: Negative Log-Likelihood\n",
        "For each position $t=1,..., T$  in a text corpus, Word2Vec predicts context words within a m-sized window given the central word  $w_t$:\n",
        "$$ \\color{#88bd33}{\\mbox{Likelihood}} \\color{black}= L(\\theta)=\n",
        "    \\prod\\limits_{t=1}^T\\prod\\limits_{-m\\le j \\le m, j\\neq 0}P(\\color{#888}{w_{t+j}}|\\color{#88bd33}{w_t}\\color{black}, \\theta), $$\n",
        "    \n",
        "where $\\theta$  are all variables to be optimized. The objective function (aka loss function or cost function) $J(\\theta)$ is the average negative log-likelihood:\n",
        "\n",
        "<img src=\"https://lena-voita.github.io/resources/lectures/word_emb/w2v/loss_with_the_plan-min.png\" width=\"60%\">\n",
        "\n",
        "Note how well the loss agrees with our plan main above: go over text with a sliding window and compute probabilities. Now let's find out how to compute these probabilities."
      ]
    },
    {
      "cell_type": "markdown",
      "metadata": {
        "id": "h_W3Hrs7nLnV"
      },
      "source": [
        "<img src=\"https://lena-voita.github.io/resources/lectures/word_emb/w2v/two_vocs_with_theta-min.png\" width=\"40%\" align=\"right\">\n",
        "\n",
        "How to calculate $P(\\color{#888}{w_{t+j}}\\color{black}|\\color{#88bd33}{w_t}\\color{black}, \\theta)$\n",
        "\n",
        "\n",
        "For each word  we will have two vectors:\n",
        "\n",
        "$\\color{#88bd33}{v_w}$ when it is a central word;\n",
        "\n",
        "$\\color{#888}{u_w}$ when it is a context word.\n",
        "(Once the vectors are trained, usually we throw away context vectors and use only word vectors.)\n",
        "\n",
        "Then for the central word $\\color{#88bd33}{c}$ (c - central) and the context word $\\color{#888}{o}$ (o - outside word) probability of the context word is\n",
        "\n",
        "<img src=\"https://lena-voita.github.io/resources/lectures/word_emb/w2v/prob_o_c-min.png\" width=\"60%\">"
      ]
    },
    {
      "cell_type": "markdown",
      "metadata": {
        "id": "4_ZeTtBBnLnW"
      },
      "source": [
        "How to: go over the illustration. Note that for central words and context words, different vectors are used. For example, first the word a is central and we use \n",
        "$\\color{#88bd33}{v_a}$, but when it becomes context, we use \n",
        "$\\color{#888}{u_a}$ instead.\n",
        "\n",
        "<img src=\"https://lena-voita.github.io/resources/lectures/word_emb/w2v/window_two_vocs1-min.png\" width=\"60%\">\n",
        "<img src=\"https://lena-voita.github.io/resources/lectures/word_emb/w2v/window_two_vocs2-min.png\" width=\"60%\">\n",
        "<img src=\"https://lena-voita.github.io/resources/lectures/word_emb/w2v/window_two_vocs3-min.png\" width=\"60%\">\n",
        "<img src=\"https://lena-voita.github.io/resources/lectures/word_emb/w2v/window_two_vocs4-min.png\" width=\"60%\">\n",
        "<img src=\"https://lena-voita.github.io/resources/lectures/word_emb/w2v/window_two_vocs5-min.png\" width=\"60%\">\n",
        "<img src=\"https://lena-voita.github.io/resources/lectures/word_emb/w2v/window_two_vocs6-min.png\" width=\"60%\">"
      ]
    },
    {
      "cell_type": "markdown",
      "metadata": {
        "id": "hMtLjUv1nLnX"
      },
      "source": [
        "### How to train: by Gradient Descent, One Word at a Time\n",
        "Let us recall that our parameters $\\theta$ are vectors $\\color{#88bd33}{v_w}$\n",
        " and $\\color{#888}{u_w}$\n",
        " for all words in the vocabulary. These vectors are learned by optimizing the training objective via gradient descent (with some learning rate $\\alpha$):\n",
        " $$\\theta^{new} = \\theta^{old} - \\alpha \\nabla_{\\theta} J(\\theta).$$\n",
        " \n",
        " \n",
        "**One word at a time**\n",
        "We make these updates one at a time: each update is for a single pair of a center word and one of its context words. Look again at the loss function:\n",
        "$$\\color{#88bd33}{\\mbox{Loss}}\\color{black} =J(\\theta)= -\\frac{1}{T}\\log L(\\theta)=\n",
        "    -\\frac{1}{T}\\sum\\limits_{t=1}^T\n",
        "    \\sum\\limits_{-m\\le j \\le m, j\\neq 0}\\log P(\\color{#888}{w_{t+j}}\\color{black}|\\color{#88bd33}{w_t}\\color{black}, \\theta)=\n",
        "    \\frac{1}{T} \\sum\\limits_{t=1}^T\n",
        "    \\sum\\limits_{-m\\le j \\le m, j\\neq 0} J_{t,j}(\\theta). $$\n",
        "\n",
        "For the center word $ \\color{#88bd33}{w_t}$\n",
        ", the loss contains a distinct term $J_{t,j}(\\theta)=-\\log P(\\color{#888}{w_{t+j}}\\color{black}|\\color{#88bd33}{w_t}\\color{black}, \\theta)$\n",
        " for each of its context words $\\color{#888}{w_{t+j}}$. Let us look in more detail at just this one term and try to understand how to make an update for this step. For example, let's imagine we have a sentence\n",
        "\n",
        "<img src=\"https://lena-voita.github.io/resources/lectures/word_emb/w2v/sent_cat_central-min.png\" width=\"60%\">\n",
        "\n",
        "with the central word $\\color{#888}cat$, and four context words. Since we are going to look at just one step, we will pick only one of the context words; for example, let's take *cute*. Then the loss term for the central word *cat* and the context word *cute* is:\n",
        "$$ J_{t,j}(\\theta)= -\\log P(\\color{#888}{cute}\\color{black}|\\color{#88bd33}{cat}\\color{black}) =\n",
        "        -\\log \\frac{\\exp\\color{#888}{u_{cute}^T}\\color{#88bd33}{v_{cat}}}{\n",
        "       \\sum\\limits_{w\\in Voc}\\exp{\\color{#888}{u_w^T}\\color{#88bd33}{v_{cat}} }} =\n",
        "    -\\color{#888}{u_{cute}^T}\\color{#88bd33}{v_{cat}}\\color{black}\n",
        "        + \\log \\sum\\limits_{w\\in Voc}\\exp{\\color{#888}{u_w^T}\\color{#88bd33}{v_{cat}}}\\color{black}{.}\n",
        "        $$\n",
        "\n",
        "Note which parameters are present at this step:\n",
        "\n",
        "- from vectors for central words, only $\\color{#88bd33}{v_{cat}}$ ;\n",
        "- from vectors for context words, all $\\color{#888}{u_w}$ (for all words in the vocabulary).\n",
        "\n",
        "Only these parameters will be updated at the current step.\n",
        "\n",
        "Below is the schematic illustration of the derivations for this step.\n",
        "\n",
        "<img src=\"https://lena-voita.github.io/resources/lectures/word_emb/w2v/one_step_alg-min.png\" width=\"60%\">\n",
        "\n",
        "\n",
        "<img src=\"https://lena-voita.github.io/resources/lectures/word_emb/w2v/loss_intuition-min.png\" width=\"40%\" align=\"right\">\n",
        "\n",
        "By making an update to minimize $J_{t,j}(\\theta)$, we force the parameters to **increase** similarity (dot product) of $\\color{#88bd33}{v_{cat}}$  and $\\color{#888}{u_{cute}}$ and, at the same time, to **decrease** similarity between $\\color{#88bd33}{v_{cat}}$ and $\\color{#888}{u_{w}}$ for all other words  in the vocabulary.\n",
        "\n",
        "\n",
        "This may sound a bit strange: why do we want to decrease similarity between $\\color{#88bd33}{v_{cat}}$ and all other words, if some of them are also valid context words (e.g., *grey, playing, in* on our example sentence)?\n",
        "But do not worry: since we make updates for each context word (and for all central words in your text), **on average over all updates** our vectors will learn the distribution of the possible contexts."
      ]
    },
    {
      "cell_type": "markdown",
      "metadata": {
        "id": "HTHVvRWXnLnY"
      },
      "source": [
        "### Faster Training: Negative Sampling\n",
        "\n",
        "In the example above, for each pair of a central word and its context word, we had to update all vectors for context words. This is highly inefficient: for each step, the time needed to make an update is proportional to the vocabulary size.\n",
        "\n",
        "But why do we have to consider all context vectors in the vocabulary at each step? For example, imagine that at the current step we consider context vectors not for all words, but only for the current target (cute) and several randomly chosen words. The figure shows the intuition.\n",
        "\n",
        "<img src=\"https://lena-voita.github.io/resources/lectures/word_emb/w2v/negative_sampling-min.png\" width=\"60%\">\n",
        "\n",
        "As before, we are increasing similarity between $\\color{#88bd33}{v_{cat}}$ and $\\color{#888}{u_{cute}}$. What is different, is that now we decrease similarity between $\\color{#88bd33}{v_{cat}}$  and context vectors **not for all** words, but only with a **subset of K \"negative\" examples**.\n",
        "\n",
        "Since we have a large corpus, on average over all updates we will update each vector sufficient number of times, and the vectors will still be able to learn the relationships between words quite well.\n",
        "\n",
        "Formally, the new loss function for this step is:\n",
        "$$ J_{t,j}(\\theta)=\n",
        "    -\\log\\sigma(\\color{#888}{u_{cute}^T}\\color{#88bd33}{v_{cat}}\\color{black}) -\n",
        "    \\sum\\limits_{w\\in \\{w_{i_1},\\dots, w_{i_K}\\}}\\log\\sigma({-\\color{#888}{u_w^T}\\color{#88bd33}{v_{cat}}}\\color{black}),\n",
        "    $$\n",
        "\n",
        "where $w_{i_1},\\dots, w_{i_K}$ are the K negative examples chosen at this step and $\\sigma(x)=\\frac{1}{1+e^{-x}}$ is the sigmoid function.\n",
        "\n",
        "Note that $\\sigma(-x)=\\frac{1}{1+e^{x}}=\\frac{1\\cdot e^{-x}}{(1+e^{x})\\cdot e^{-x}} =\n",
        "    \\frac{e^{-x}}{1+e^{-x}}= 1- \\frac{1}{1+e^{x}}=1-\\sigma(x)$. Then the loss can also be written as:\n",
        "    $$ J_{t,j}(\\theta)=\n",
        "    -\\log\\sigma(\\color{#888}{u_{cute}^T}\\color{#88bd33}{v_{cat}}\\color{black}) -\n",
        "    \\sum\\limits_{w\\in \\{w_{i_1},\\dots, w_{i_K}\\}}\\log(1-\\sigma({\\color{#888}{u_w^T}\\color{#88bd33}{v_{cat}}}\\color{black})).\n",
        "        $$\n",
        "\n",
        "#### The Choice of Negative Examples\n",
        "\n",
        "Each word has only a few \"true\" contexts. Therefore, randomly chosen words are very likely to be \"negative\", i.e. not true contexts. This simple idea is used not only to train Word2Vec efficiently but also in many other applications, some of which we will see later in the course.\n",
        "\n",
        "Word2Vec randomly samples negative examples based on the empirical distribution of words. Let $U(w)$  be a unigram distribution of words, i.e. $U(w)$ is the frequency of the word $w$ in the text corpus. Word2Vec modifies this distribution to sample less frequent words more often: it samples proportionally to $U^{3/4}(w)$."
      ]
    },
    {
      "cell_type": "markdown",
      "metadata": {
        "id": "FE__9wjBnLnY"
      },
      "source": [
        "## Word2Vec variants: Skip-Gram and CBOW\n",
        "\n",
        "There are two Word2Vec variants: Skip-Gram and CBOW.\n",
        "\n",
        "Skip-Gram is the model we considered so far: it predicts context words given the central word. Skip-Gram with negative sampling is the most popular approach.\n",
        "\n",
        "CBOW (Continuous Bag-of-Words) predicts the central word from the sum of context vectors. This simple sum of word vectors is called \"bag of words\", which gives the name for the model.\n",
        "\n",
        "<img src=\"https://lena-voita.github.io/resources/lectures/word_emb/w2v/cbow_skip-min.png\" width=\"60%\">"
      ]
    },
    {
      "cell_type": "markdown",
      "metadata": {
        "id": "OxVXhjn0nLnZ"
      },
      "source": [
        "### The Continuous Bag of Words (CBOW) Model\n",
        "- The CBOW model architecture tries to predict the current target word (the center word) based on the source context words (surrounding words). \n",
        "- Considering a simple sentence, *“the quick brown fox jumps over the lazy dog”*, this can be pairs of (context_window, target_word) where if we consider a context window of size 2, we have examples like ([quick, fox], brown), ([the, brown], quick), ([the, dog], lazy) and so on. Thus the model tries to predict the target_word based on the context_window words.\n",
        "![](https://miro.medium.com/max/328/1*UVe8b6CWYykcxbBOR6uCfg.png)"
      ]
    },
    {
      "cell_type": "markdown",
      "metadata": {
        "id": "HTB6SsdKnLnZ"
      },
      "source": [
        "## Robust Word2Vec Models with Gensim\n",
        "\n",
        "- While our implementations are decent enough, they are not optimized enough to work well on large corpora. \n",
        "- The **gensim** framework, created by Radim Řehůřek consists of a robust, efficient and scalable implementation of the Word2Vec model. \n",
        "- We will leverage the same on Bible corpus. \n",
        "- In our workflow, we will tokenize our normalized corpus and then focus on the following four parameters in the Word2Vec model to build it.\n",
        "    - size: The word embedding dimensionality\n",
        "    - window: The context window size\n",
        "    - min_count: The minimum word count\n",
        "    - sample: The downsample setting for frequent words\n",
        "- After building our model, we will use our words of interest to see the top similar words for each of them."
      ]
    },
    {
      "cell_type": "markdown",
      "metadata": {
        "id": "-VWaHsp8nLna"
      },
      "source": [
        "- Let’s now load up our other corpus based on The King James Version of the Bible using nltk and pre-process the text."
      ]
    },
    {
      "cell_type": "code",
      "execution_count": null,
      "metadata": {
        "id": "8ExgutaAnLna"
      },
      "outputs": [],
      "source": [
        "import pandas as pd\n",
        "import numpy as np\n",
        "import re\n",
        "import nltk\n",
        "import matplotlib.pyplot as plt\n",
        "pd.options.display.max_colwidth = 200\n",
        "%matplotlib inline"
      ]
    },
    {
      "cell_type": "code",
      "execution_count": null,
      "metadata": {
        "id": "8U7muhO5nLnb"
      },
      "outputs": [],
      "source": [
        "from nltk.corpus import gutenberg\n",
        "from string import punctuation\n",
        "\n",
        "wpt = nltk.WordPunctTokenizer()\n",
        "stop_words = nltk.corpus.stopwords.words('english')\n",
        "\n",
        "def normalize_document(doc):\n",
        "    # lower case and remove special characters\\whitespaces\n",
        "    doc = re.sub(r'[^a-zA-Z\\s]', '', doc, re.I|re.A)\n",
        "    doc = doc.lower()\n",
        "    doc = doc.strip()\n",
        "    # tokenize document\n",
        "    tokens = wpt.tokenize(doc)\n",
        "    # filter stopwords out of document\n",
        "    filtered_tokens = [token for token in tokens if token not in stop_words]\n",
        "    # re-create document from filtered tokens\n",
        "    doc = ' '.join(filtered_tokens)\n",
        "    return doc\n",
        "\n",
        "normalize_corpus = np.vectorize(normalize_document)\n",
        "\n"
      ]
    },
    {
      "cell_type": "code",
      "execution_count": null,
      "metadata": {
        "id": "jRBoYIJenLnc",
        "outputId": "a7222c8f-c2dc-4281-96bb-c1d215209f0d"
      },
      "outputs": [
        {
          "name": "stdout",
          "output_type": "stream",
          "text": [
            "Total lines: 30103\n",
            "\n",
            "Sample line: ['1', ':', '6', 'And', 'God', 'said', ',', 'Let', 'there', 'be', 'a', 'firmament', 'in', 'the', 'midst', 'of', 'the', 'waters', ',', 'and', 'let', 'it', 'divide', 'the', 'waters', 'from', 'the', 'waters', '.']\n",
            "\n",
            "Processed line: god said let firmament midst waters let divide waters waters\n"
          ]
        }
      ],
      "source": [
        "bible = gutenberg.sents('bible-kjv.txt') \n",
        "#print(bible)\n",
        "remove_terms = punctuation + '0123456789'\n",
        "\n",
        "norm_bible = [[word.lower() for word in sent if word not in remove_terms] for sent in bible]\n",
        "norm_bible = [' '.join(tok_sent) for tok_sent in norm_bible]\n",
        "norm_bible = filter(None, normalize_corpus(norm_bible))\n",
        "norm_bible = [tok_sent for tok_sent in norm_bible if len(tok_sent.split()) > 2]\n",
        "\n",
        "print('Total lines:', len(bible))\n",
        "print('\\nSample line:', bible[10])\n",
        "print('\\nProcessed line:', norm_bible[10])"
      ]
    },
    {
      "cell_type": "code",
      "execution_count": null,
      "metadata": {
        "id": "Ya97uL1tnLnc",
        "outputId": "9efd52fd-b38c-4ceb-cd37-416e0b66816d"
      },
      "outputs": [
        {
          "name": "stderr",
          "output_type": "stream",
          "text": [
            "/home/hpshin/.local/lib/python3.6/site-packages/gensim/matutils.py:737: FutureWarning: Conversion of the second argument of issubdtype from `int` to `np.signedinteger` is deprecated. In future, it will be treated as `np.int64 == np.dtype(int).type`.\n",
            "  if np.issubdtype(vec.dtype, np.int):\n"
          ]
        },
        {
          "data": {
            "text/plain": [
              "{'god': ['lord', 'worldly', 'reasonable', 'salvation', 'promised'],\n",
              " 'jesus': ['peter', 'messias', 'john', 'immediately', 'nathanael'],\n",
              " 'noah': ['shem', 'japheth', 'enosh', 'kenan', 'ham'],\n",
              " 'egypt': ['egyptians', 'pharaoh', 'bondage', 'rid', 'flowing'],\n",
              " 'john': ['james', 'baptist', 'devine', 'peter', 'galilee'],\n",
              " 'gospel': ['hope', 'faith', 'afflictions', 'christ', 'preach'],\n",
              " 'moses': ['children', 'joshua', 'congregation', 'doctor', 'aaron'],\n",
              " 'famine': ['pestilence', 'overtaketh', 'peril', 'blasting', 'deaths']}"
            ]
          },
          "execution_count": 4,
          "metadata": {},
          "output_type": "execute_result"
        }
      ],
      "source": [
        "from gensim.models import word2vec\n",
        "\n",
        "# tokenize sentences in corpus\n",
        "wpt = nltk.WordPunctTokenizer()\n",
        "tokenized_corpus = [wpt.tokenize(document) for document in norm_bible]\n",
        "\n",
        "# Set values for various parameters\n",
        "feature_size = 100    # Word vector dimensionality  \n",
        "window_context = 30          # Context window size                                                                                    \n",
        "min_word_count = 1   # Minimum word count                        \n",
        "sample = 1e-3   # Downsample setting for frequent words\n",
        "\n",
        "w2v_model = word2vec.Word2Vec(tokenized_corpus, size=feature_size, \n",
        "                          window=window_context, min_count=min_word_count,\n",
        "                          sample=sample, iter=50)\n",
        "\n",
        "# view similar words based on gensim's model\n",
        "similar_words = {search_term: [item[0] for item in w2v_model.wv.most_similar([search_term], topn=5)]\n",
        "                  for search_term in ['god', 'jesus', 'noah', 'egypt', 'john', 'gospel', 'moses','famine']}\n",
        "similar_words"
      ]
    },
    {
      "cell_type": "markdown",
      "metadata": {
        "id": "Svc-DnrnnLnd"
      },
      "source": [
        "- The similar words here definitely are more related to our words of interest and this is expected given that we ran this model for more number of iterations which must have yield better and more contextual embeddings. \n",
        "- Do you notice any interesting associations?\n",
        "![](https://miro.medium.com/max/1064/1*FaXo2UCuoGGWw6ryRXCEWA.png)"
      ]
    },
    {
      "cell_type": "markdown",
      "metadata": {
        "id": "dK8J9Hg0nLnd"
      },
      "source": [
        "- Let’s also visualize the words of interest and their similar words using their embedding vectors after reducing their dimensions to a 2-D space with t-SNE."
      ]
    },
    {
      "cell_type": "code",
      "execution_count": null,
      "metadata": {
        "id": "yizOhqq6nLnd",
        "outputId": "98153305-4767-4014-ca43-d24066708f7c"
      },
      "outputs": [
        {
          "data": {
            "image/png": "[encoded data removed]",
            "text/plain": [
              "<Figure size 1008x576 with 1 Axes>"
            ]
          },
          "metadata": {
            "needs_background": "light"
          },
          "output_type": "display_data"
        }
      ],
      "source": [
        "from sklearn.manifold import TSNE\n",
        "\n",
        "words = sum([[k] + v for k, v in similar_words.items()], [])\n",
        "wvs = w2v_model.wv[words]\n",
        "\n",
        "tsne = TSNE(n_components=2, random_state=0, n_iter=10000, perplexity=2)\n",
        "np.set_printoptions(suppress=True)\n",
        "T = tsne.fit_transform(wvs)\n",
        "labels = words\n",
        "\n",
        "plt.figure(figsize=(14, 8))\n",
        "plt.scatter(T[:, 0], T[:, 1], c='orange', edgecolors='r')\n",
        "for label, x, y in zip(labels, T[:, 0], T[:, 1]):\n",
        "    plt.annotate(label, xy=(x+1, y+1), xytext=(0, 0), textcoords='offset points')"
      ]
    },
    {
      "cell_type": "markdown",
      "metadata": {
        "id": "-5yOg400nLne"
      },
      "source": [
        "- We can clearly see based on what I depicted earlier that noah and his sons are quite close to each other based on the word embeddings from our model!"
      ]
    },
    {
      "cell_type": "markdown",
      "metadata": {
        "id": "lhgsiNMXnLne"
      },
      "source": [
        "## Applying Word2Vec features for Machine Learning Tasks\n",
        "\n",
        "-  Let’s try to apply word2vec features to actual machine learning task like clustering.\n",
        "- To start with, we will build a simple Word2Vec model on the corpus and visualize the embeddings.\n"
      ]
    },
    {
      "cell_type": "code",
      "execution_count": null,
      "metadata": {
        "id": "QoQbJF4WnLne",
        "outputId": "afdd6e34-cfec-4bd1-c7de-48f28ccc5510"
      },
      "outputs": [
        {
          "data": {
            "text/html": [
              "<div>\n",
              "<style scoped>\n",
              "    .dataframe tbody tr th:only-of-type {\n",
              "        vertical-align: middle;\n",
              "    }\n",
              "\n",
              "    .dataframe tbody tr th {\n",
              "        vertical-align: top;\n",
              "    }\n",
              "\n",
              "    .dataframe thead th {\n",
              "        text-align: right;\n",
              "    }\n",
              "</style>\n",
              "<table border=\"1\" class=\"dataframe\">\n",
              "  <thead>\n",
              "    <tr style=\"text-align: right;\">\n",
              "      <th></th>\n",
              "      <th>Document</th>\n",
              "      <th>Category</th>\n",
              "    </tr>\n",
              "  </thead>\n",
              "  <tbody>\n",
              "    <tr>\n",
              "      <th>0</th>\n",
              "      <td>The sky is blue and beautiful.</td>\n",
              "      <td>weather</td>\n",
              "    </tr>\n",
              "    <tr>\n",
              "      <th>1</th>\n",
              "      <td>Love this blue and beautiful sky!</td>\n",
              "      <td>weather</td>\n",
              "    </tr>\n",
              "    <tr>\n",
              "      <th>2</th>\n",
              "      <td>The quick brown fox jumps over the lazy dog.</td>\n",
              "      <td>animals</td>\n",
              "    </tr>\n",
              "    <tr>\n",
              "      <th>3</th>\n",
              "      <td>A king's breakfast has sausages, ham, bacon, eggs, toast and beans</td>\n",
              "      <td>food</td>\n",
              "    </tr>\n",
              "    <tr>\n",
              "      <th>4</th>\n",
              "      <td>I love green eggs, ham, sausages and bacon!</td>\n",
              "      <td>food</td>\n",
              "    </tr>\n",
              "    <tr>\n",
              "      <th>5</th>\n",
              "      <td>The brown fox is quick and the blue dog is lazy!</td>\n",
              "      <td>animals</td>\n",
              "    </tr>\n",
              "    <tr>\n",
              "      <th>6</th>\n",
              "      <td>The sky is very blue and the sky is very beautiful today</td>\n",
              "      <td>weather</td>\n",
              "    </tr>\n",
              "    <tr>\n",
              "      <th>7</th>\n",
              "      <td>The dog is lazy but the brown fox is quick!</td>\n",
              "      <td>animals</td>\n",
              "    </tr>\n",
              "  </tbody>\n",
              "</table>\n",
              "</div>"
            ],
            "text/plain": [
              "                                                             Document Category\n",
              "0                                      The sky is blue and beautiful.  weather\n",
              "1                                   Love this blue and beautiful sky!  weather\n",
              "2                        The quick brown fox jumps over the lazy dog.  animals\n",
              "3  A king's breakfast has sausages, ham, bacon, eggs, toast and beans     food\n",
              "4                         I love green eggs, ham, sausages and bacon!     food\n",
              "5                    The brown fox is quick and the blue dog is lazy!  animals\n",
              "6            The sky is very blue and the sky is very beautiful today  weather\n",
              "7                         The dog is lazy but the brown fox is quick!  animals"
            ]
          },
          "execution_count": 17,
          "metadata": {},
          "output_type": "execute_result"
        }
      ],
      "source": [
        "corpus = ['The sky is blue and beautiful.',\n",
        "          'Love this blue and beautiful sky!',\n",
        "          'The quick brown fox jumps over the lazy dog.',\n",
        "          \"A king's breakfast has sausages, ham, bacon, eggs, toast and beans\",\n",
        "          'I love green eggs, ham, sausages and bacon!',\n",
        "          'The brown fox is quick and the blue dog is lazy!',\n",
        "          'The sky is very blue and the sky is very beautiful today',\n",
        "          'The dog is lazy but the brown fox is quick!'    \n",
        "]\n",
        "labels = ['weather', 'weather', 'animals', 'food', 'food', 'animals', 'weather', 'animals']\n",
        "\n",
        "corpus = np.array(corpus)\n",
        "corpus_df = pd.DataFrame({'Document': corpus, \n",
        "                          'Category': labels})\n",
        "corpus_df = corpus_df[['Document', 'Category']]\n",
        "corpus_df"
      ]
    },
    {
      "cell_type": "code",
      "execution_count": null,
      "metadata": {
        "id": "IY6ax6YgnLnf",
        "outputId": "a5ca2798-2208-485c-ae99-c33b6c2f10ba"
      },
      "outputs": [
        {
          "data": {
            "text/plain": [
              "array(['sky blue beautiful', 'love blue beautiful sky',\n",
              "       'quick brown fox jumps lazy dog',\n",
              "       'kings breakfast sausages ham bacon eggs toast beans',\n",
              "       'love green eggs ham sausages bacon',\n",
              "       'brown fox quick blue dog lazy', 'sky blue sky beautiful today',\n",
              "       'dog lazy brown fox quick'], dtype='<U51')"
            ]
          },
          "execution_count": 18,
          "metadata": {},
          "output_type": "execute_result"
        }
      ],
      "source": [
        "norm_corpus = normalize_corpus(corpus)\n",
        "norm_corpus"
      ]
    },
    {
      "cell_type": "code",
      "execution_count": null,
      "metadata": {
        "id": "Mat6sIYVnLnf",
        "outputId": "0a70f48a-7c45-4f3d-cb9c-5438b5cd6116"
      },
      "outputs": [
        {
          "data": {
            "image/png": "[encoded data removed]",
            "text/plain": [
              "<Figure size 864x432 with 1 Axes>"
            ]
          },
          "metadata": {
            "needs_background": "light"
          },
          "output_type": "display_data"
        }
      ],
      "source": [
        "# build word2vec model\n",
        "wpt = nltk.WordPunctTokenizer()\n",
        "tokenized_corpus = [wpt.tokenize(document) for document in norm_corpus]\n",
        "\n",
        "# Set values for various parameters\n",
        "feature_size = 10    # Word vector dimensionality  \n",
        "window_context = 10          # Context window size                                                                                    \n",
        "min_word_count = 1   # Minimum word count                        \n",
        "sample = 1e-3   # Downsample setting for frequent words\n",
        "\n",
        "w2v_model = word2vec.Word2Vec(tokenized_corpus, size=feature_size, \n",
        "                              window=window_context, min_count = min_word_count,\n",
        "                              sample=sample, iter=100)\n",
        "                              \n",
        "                              \n",
        "# visualize embeddings\n",
        "from sklearn.manifold import TSNE\n",
        "\n",
        "words = w2v_model.wv.index2word\n",
        "wvs = w2v_model.wv[words]\n",
        "\n",
        "tsne = TSNE(n_components=2, random_state=0, n_iter=5000, perplexity=2)\n",
        "np.set_printoptions(suppress=True)\n",
        "T = tsne.fit_transform(wvs)\n",
        "labels = words\n",
        "\n",
        "plt.figure(figsize=(12, 6))\n",
        "plt.scatter(T[:, 0], T[:, 1], c='orange', edgecolors='r')\n",
        "for label, x, y in zip(labels, T[:, 0], T[:, 1]):\n",
        "    plt.annotate(label, xy=(x+1, y+1), xytext=(0, 0), textcoords='offset points')"
      ]
    },
    {
      "cell_type": "markdown",
      "metadata": {
        "id": "DB-p7FjJnLnf"
      },
      "source": [
        "- Remember that our corpus is extremely small so to get meaninful word embeddings and for the model to get more context and semantics, more data helps. \n",
        "- Now what is a word embedding in this scenario? It’s typically a dense vector for each word as depicted in the following example for the word **sky**."
      ]
    },
    {
      "cell_type": "code",
      "execution_count": null,
      "metadata": {
        "id": "epdPjlklnLng",
        "outputId": "8ff94f8f-4595-49d1-8734-5d1802bff211"
      },
      "outputs": [
        {
          "data": {
            "text/plain": [
              "array([-0.02023206,  0.02715601,  0.03446264, -0.02529489,  0.01887564,\n",
              "        0.04478787,  0.00422915, -0.0430511 , -0.04376153,  0.00133012],\n",
              "      dtype=float32)"
            ]
          },
          "execution_count": 20,
          "metadata": {},
          "output_type": "execute_result"
        }
      ],
      "source": [
        "w2v_model.wv['sky']"
      ]
    },
    {
      "cell_type": "markdown",
      "metadata": {
        "id": "hgpYlxscnLng"
      },
      "source": [
        "- Now suppose we wanted to cluster the eight documents from our toy corpus, we would need to get the document level embeddings from each of the words present in each document. \n",
        "- One strategy would be to average out the word embeddings for each word in a document. \n",
        "- This is an extremely useful strategy and you can adopt the same for your own problems. \n",
        "- Let’s apply this now on our corpus to get features for each document.\n"
      ]
    },
    {
      "cell_type": "code",
      "execution_count": null,
      "metadata": {
        "id": "diSxC09GnLng",
        "outputId": "fac38c04-4aeb-448c-a7d0-f734652f61f7"
      },
      "outputs": [
        {
          "name": "stderr",
          "output_type": "stream",
          "text": [
            "/home/hpshin/.local/lib/python3.6/site-packages/ipykernel_launcher.py:9: DeprecationWarning: Call to deprecated `__getitem__` (Method will be removed in 4.0.0, use self.wv.__getitem__() instead).\n",
            "  if __name__ == '__main__':\n"
          ]
        },
        {
          "data": {
            "text/html": [
              "<div>\n",
              "<style scoped>\n",
              "    .dataframe tbody tr th:only-of-type {\n",
              "        vertical-align: middle;\n",
              "    }\n",
              "\n",
              "    .dataframe tbody tr th {\n",
              "        vertical-align: top;\n",
              "    }\n",
              "\n",
              "    .dataframe thead th {\n",
              "        text-align: right;\n",
              "    }\n",
              "</style>\n",
              "<table border=\"1\" class=\"dataframe\">\n",
              "  <thead>\n",
              "    <tr style=\"text-align: right;\">\n",
              "      <th></th>\n",
              "      <th>0</th>\n",
              "      <th>1</th>\n",
              "      <th>2</th>\n",
              "      <th>3</th>\n",
              "      <th>4</th>\n",
              "      <th>5</th>\n",
              "      <th>6</th>\n",
              "      <th>7</th>\n",
              "      <th>8</th>\n",
              "      <th>9</th>\n",
              "    </tr>\n",
              "  </thead>\n",
              "  <tbody>\n",
              "    <tr>\n",
              "      <th>0</th>\n",
              "      <td>0.000085</td>\n",
              "      <td>0.008320</td>\n",
              "      <td>0.006366</td>\n",
              "      <td>-0.000708</td>\n",
              "      <td>-0.011315</td>\n",
              "      <td>-0.008171</td>\n",
              "      <td>-0.009369</td>\n",
              "      <td>-0.009417</td>\n",
              "      <td>-0.015967</td>\n",
              "      <td>0.010323</td>\n",
              "    </tr>\n",
              "    <tr>\n",
              "      <th>1</th>\n",
              "      <td>0.001129</td>\n",
              "      <td>0.002710</td>\n",
              "      <td>0.014570</td>\n",
              "      <td>0.000231</td>\n",
              "      <td>-0.001230</td>\n",
              "      <td>-0.019099</td>\n",
              "      <td>-0.003379</td>\n",
              "      <td>-0.005314</td>\n",
              "      <td>-0.007818</td>\n",
              "      <td>0.007181</td>\n",
              "    </tr>\n",
              "    <tr>\n",
              "      <th>2</th>\n",
              "      <td>-0.009133</td>\n",
              "      <td>0.013195</td>\n",
              "      <td>-0.004880</td>\n",
              "      <td>-0.016248</td>\n",
              "      <td>-0.009421</td>\n",
              "      <td>-0.027553</td>\n",
              "      <td>0.015857</td>\n",
              "      <td>-0.004406</td>\n",
              "      <td>-0.011006</td>\n",
              "      <td>0.001646</td>\n",
              "    </tr>\n",
              "    <tr>\n",
              "      <th>3</th>\n",
              "      <td>0.013101</td>\n",
              "      <td>0.015101</td>\n",
              "      <td>-0.008577</td>\n",
              "      <td>-0.018211</td>\n",
              "      <td>0.001535</td>\n",
              "      <td>-0.019617</td>\n",
              "      <td>-0.000134</td>\n",
              "      <td>-0.000104</td>\n",
              "      <td>-0.006389</td>\n",
              "      <td>0.011529</td>\n",
              "    </tr>\n",
              "    <tr>\n",
              "      <th>4</th>\n",
              "      <td>-0.003699</td>\n",
              "      <td>-0.002745</td>\n",
              "      <td>-0.004708</td>\n",
              "      <td>-0.008338</td>\n",
              "      <td>0.013487</td>\n",
              "      <td>-0.032589</td>\n",
              "      <td>0.021768</td>\n",
              "      <td>0.004287</td>\n",
              "      <td>-0.004313</td>\n",
              "      <td>0.002123</td>\n",
              "    </tr>\n",
              "    <tr>\n",
              "      <th>5</th>\n",
              "      <td>-0.004028</td>\n",
              "      <td>0.016256</td>\n",
              "      <td>-0.016351</td>\n",
              "      <td>-0.015983</td>\n",
              "      <td>-0.008269</td>\n",
              "      <td>-0.028274</td>\n",
              "      <td>0.010331</td>\n",
              "      <td>-0.011257</td>\n",
              "      <td>-0.011060</td>\n",
              "      <td>0.004863</td>\n",
              "    </tr>\n",
              "    <tr>\n",
              "      <th>6</th>\n",
              "      <td>0.001354</td>\n",
              "      <td>0.007617</td>\n",
              "      <td>0.005086</td>\n",
              "      <td>-0.004902</td>\n",
              "      <td>-0.011260</td>\n",
              "      <td>0.007249</td>\n",
              "      <td>0.002677</td>\n",
              "      <td>-0.009968</td>\n",
              "      <td>-0.009986</td>\n",
              "      <td>0.001037</td>\n",
              "    </tr>\n",
              "    <tr>\n",
              "      <th>7</th>\n",
              "      <td>-0.002188</td>\n",
              "      <td>0.014367</td>\n",
              "      <td>-0.010475</td>\n",
              "      <td>-0.019034</td>\n",
              "      <td>-0.001920</td>\n",
              "      <td>-0.025900</td>\n",
              "      <td>0.020624</td>\n",
              "      <td>-0.011912</td>\n",
              "      <td>-0.011218</td>\n",
              "      <td>0.004167</td>\n",
              "    </tr>\n",
              "  </tbody>\n",
              "</table>\n",
              "</div>"
            ],
            "text/plain": [
              "          0         1         2         3         4         5         6  \\\n",
              "0  0.000085  0.008320  0.006366 -0.000708 -0.011315 -0.008171 -0.009369   \n",
              "1  0.001129  0.002710  0.014570  0.000231 -0.001230 -0.019099 -0.003379   \n",
              "2 -0.009133  0.013195 -0.004880 -0.016248 -0.009421 -0.027553  0.015857   \n",
              "3  0.013101  0.015101 -0.008577 -0.018211  0.001535 -0.019617 -0.000134   \n",
              "4 -0.003699 -0.002745 -0.004708 -0.008338  0.013487 -0.032589  0.021768   \n",
              "5 -0.004028  0.016256 -0.016351 -0.015983 -0.008269 -0.028274  0.010331   \n",
              "6  0.001354  0.007617  0.005086 -0.004902 -0.011260  0.007249  0.002677   \n",
              "7 -0.002188  0.014367 -0.010475 -0.019034 -0.001920 -0.025900  0.020624   \n",
              "\n",
              "          7         8         9  \n",
              "0 -0.009417 -0.015967  0.010323  \n",
              "1 -0.005314 -0.007818  0.007181  \n",
              "2 -0.004406 -0.011006  0.001646  \n",
              "3 -0.000104 -0.006389  0.011529  \n",
              "4  0.004287 -0.004313  0.002123  \n",
              "5 -0.011257 -0.011060  0.004863  \n",
              "6 -0.009968 -0.009986  0.001037  \n",
              "7 -0.011912 -0.011218  0.004167  "
            ]
          },
          "execution_count": 22,
          "metadata": {},
          "output_type": "execute_result"
        }
      ],
      "source": [
        "def average_word_vectors(words, model, vocabulary, num_features):\n",
        "    \n",
        "    feature_vector = np.zeros((num_features,),dtype=\"float64\")\n",
        "    nwords = 0.\n",
        "    \n",
        "    for word in words:\n",
        "        if word in vocabulary: \n",
        "            nwords = nwords + 1.\n",
        "            feature_vector = np.add(feature_vector, model[word])\n",
        "    \n",
        "    if nwords:\n",
        "        feature_vector = np.divide(feature_vector, nwords)\n",
        "        \n",
        "    return feature_vector\n",
        "    \n",
        "   \n",
        "def averaged_word_vectorizer(corpus, model, num_features):\n",
        "    vocabulary = set(model.wv.index2word)\n",
        "    features = [average_word_vectors(tokenized_sentence, model, vocabulary, num_features)\n",
        "                    for tokenized_sentence in corpus]\n",
        "    return np.array(features)\n",
        "\n",
        "\n",
        "# get document level embeddings\n",
        "w2v_feature_array = averaged_word_vectorizer(corpus=tokenized_corpus, model=w2v_model,\n",
        "                                             num_features=feature_size)\n",
        "pd.DataFrame(w2v_feature_array)"
      ]
    },
    {
      "cell_type": "markdown",
      "metadata": {
        "id": "7pcPyZm4nLnh"
      },
      "source": [
        "- Now that we have our features for each document, let’s cluster these documents using the **Affinity Propagation** algorithm, which is a clustering algorithm based on the concept of “message passing” between data points and does not need the number of clusters as an explicit input which is often required by partition-based clustering algorithms.\n"
      ]
    },
    {
      "cell_type": "code",
      "execution_count": null,
      "metadata": {
        "id": "68ET2QPHnLnh",
        "outputId": "ec5e6d66-99ec-400d-e76b-abac30d75a57"
      },
      "outputs": [
        {
          "name": "stderr",
          "output_type": "stream",
          "text": [
            "/home/hpshin/.local/lib/python3.6/site-packages/sklearn/cluster/_affinity_propagation.py:154: FutureWarning: 'random_state' has been introduced in 0.23. It will be set to None starting from 1.0 (renaming of 0.25) which means that results will differ at every function call. Set 'random_state' to None to silence this warning, or to 0 to keep the behavior of versions <0.23.\n",
            "  FutureWarning\n"
          ]
        },
        {
          "data": {
            "text/html": [
              "<div>\n",
              "<style scoped>\n",
              "    .dataframe tbody tr th:only-of-type {\n",
              "        vertical-align: middle;\n",
              "    }\n",
              "\n",
              "    .dataframe tbody tr th {\n",
              "        vertical-align: top;\n",
              "    }\n",
              "\n",
              "    .dataframe thead th {\n",
              "        text-align: right;\n",
              "    }\n",
              "</style>\n",
              "<table border=\"1\" class=\"dataframe\">\n",
              "  <thead>\n",
              "    <tr style=\"text-align: right;\">\n",
              "      <th></th>\n",
              "      <th>Document</th>\n",
              "      <th>Category</th>\n",
              "      <th>ClusterLabel</th>\n",
              "    </tr>\n",
              "  </thead>\n",
              "  <tbody>\n",
              "    <tr>\n",
              "      <th>0</th>\n",
              "      <td>The sky is blue and beautiful.</td>\n",
              "      <td>weather</td>\n",
              "      <td>0</td>\n",
              "    </tr>\n",
              "    <tr>\n",
              "      <th>1</th>\n",
              "      <td>Love this blue and beautiful sky!</td>\n",
              "      <td>weather</td>\n",
              "      <td>0</td>\n",
              "    </tr>\n",
              "    <tr>\n",
              "      <th>2</th>\n",
              "      <td>The quick brown fox jumps over the lazy dog.</td>\n",
              "      <td>animals</td>\n",
              "      <td>1</td>\n",
              "    </tr>\n",
              "    <tr>\n",
              "      <th>3</th>\n",
              "      <td>A king's breakfast has sausages, ham, bacon, eggs, toast and beans</td>\n",
              "      <td>food</td>\n",
              "      <td>1</td>\n",
              "    </tr>\n",
              "    <tr>\n",
              "      <th>4</th>\n",
              "      <td>I love green eggs, ham, sausages and bacon!</td>\n",
              "      <td>food</td>\n",
              "      <td>1</td>\n",
              "    </tr>\n",
              "    <tr>\n",
              "      <th>5</th>\n",
              "      <td>The brown fox is quick and the blue dog is lazy!</td>\n",
              "      <td>animals</td>\n",
              "      <td>1</td>\n",
              "    </tr>\n",
              "    <tr>\n",
              "      <th>6</th>\n",
              "      <td>The sky is very blue and the sky is very beautiful today</td>\n",
              "      <td>weather</td>\n",
              "      <td>0</td>\n",
              "    </tr>\n",
              "    <tr>\n",
              "      <th>7</th>\n",
              "      <td>The dog is lazy but the brown fox is quick!</td>\n",
              "      <td>animals</td>\n",
              "      <td>1</td>\n",
              "    </tr>\n",
              "  </tbody>\n",
              "</table>\n",
              "</div>"
            ],
            "text/plain": [
              "                                                             Document  \\\n",
              "0                                      The sky is blue and beautiful.   \n",
              "1                                   Love this blue and beautiful sky!   \n",
              "2                        The quick brown fox jumps over the lazy dog.   \n",
              "3  A king's breakfast has sausages, ham, bacon, eggs, toast and beans   \n",
              "4                         I love green eggs, ham, sausages and bacon!   \n",
              "5                    The brown fox is quick and the blue dog is lazy!   \n",
              "6            The sky is very blue and the sky is very beautiful today   \n",
              "7                         The dog is lazy but the brown fox is quick!   \n",
              "\n",
              "  Category  ClusterLabel  \n",
              "0  weather             0  \n",
              "1  weather             0  \n",
              "2  animals             1  \n",
              "3     food             1  \n",
              "4     food             1  \n",
              "5  animals             1  \n",
              "6  weather             0  \n",
              "7  animals             1  "
            ]
          },
          "execution_count": 23,
          "metadata": {},
          "output_type": "execute_result"
        }
      ],
      "source": [
        "from sklearn.cluster import AffinityPropagation\n",
        "\n",
        "ap = AffinityPropagation()\n",
        "ap.fit(w2v_feature_array)\n",
        "cluster_labels = ap.labels_\n",
        "cluster_labels = pd.DataFrame(cluster_labels, columns=['ClusterLabel'])\n",
        "pd.concat([corpus_df, cluster_labels], axis=1)"
      ]
    },
    {
      "cell_type": "markdown",
      "metadata": {
        "id": "MG3__szhnLnh"
      },
      "source": [
        "- We can see that our algorithm has clustered each document into the right group based on our Word2Vec features.\n",
        "- Pretty neat! We can also visualize how each document in positioned in each cluster by using Principal Component Analysis (PCA) to reduce the feature dimensions to 2-D and then visualizing the same (by color coding each cluster)."
      ]
    },
    {
      "cell_type": "code",
      "execution_count": null,
      "metadata": {
        "id": "DxsWxNt6nLnh",
        "outputId": "eddbb3d8-d78a-4c37-8611-7178fc08b42e"
      },
      "outputs": [
        {
          "data": {
            "image/png": "[encoded data removed]",
            "text/plain": [
              "<Figure size 576x432 with 1 Axes>"
            ]
          },
          "metadata": {
            "needs_background": "light"
          },
          "output_type": "display_data"
        }
      ],
      "source": [
        "from sklearn.decomposition import PCA\n",
        "\n",
        "pca = PCA(n_components=2, random_state=0)\n",
        "pcs = pca.fit_transform(w2v_feature_array)\n",
        "labels = ap.labels_\n",
        "categories = list(corpus_df['Category'])\n",
        "plt.figure(figsize=(8, 6))\n",
        "\n",
        "for i in range(len(labels)):\n",
        "    label = labels[i]\n",
        "    color = 'orange' if label == 0 else 'blue' if label == 1 else 'green'\n",
        "    annotation_label = categories[i]\n",
        "    x, y = pcs[i]\n",
        "    plt.scatter(x, y, c=color, edgecolors='k')\n",
        "    plt.annotate(annotation_label, xy=(x+1e-4, y+1e-3), xytext=(0, 0), textcoords='offset points')"
      ]
    },
    {
      "cell_type": "markdown",
      "metadata": {
        "id": "A36xI-bnnLni"
      },
      "source": [
        "- Everything looks to be in order as documents in each cluster are closer to each other and far apart from other clusters."
      ]
    },
    {
      "cell_type": "markdown",
      "metadata": {
        "id": "XQKeNENFnLni"
      },
      "source": [
        "## The GloVe Model\n",
        "\n",
        "- The GloVe model stands for Global Vectors which is an unsupervised learning model which can be used to obtain dense word vectors similar to Word2Vec. \n",
        "- However the technique is different and training is performed on an aggregated **global word-word co-occurrence matrix**, giving us a vector space with meaningful sub-structures. \n",
        "- This method was invented in Stanford by Pennington et al. and I recommend you to read the original paper on GloVe, ‘GloVe: Global Vectors for Word Representation’ by Pennington et al. which is an excellent read to get some perspective on how this model works.\n",
        "\n",
        "<img src=\"https://lena-voita.github.io/resources/lectures/word_emb/glove/idea-min.png\" width=\"60%\">"
      ]
    },
    {
      "cell_type": "markdown",
      "metadata": {
        "id": "SCw6YpKUnLni"
      },
      "source": [
        "- The basic methodology of the GloVe model is to first create a huge word-context co-occurence matrix consisting of (word, context) pairs such that each element in this matrix represents how often a word occurs with the context (which can be a sequence of words). The idea then is to apply matrix factorization to approximate this matrix as depicted in the following figure.\n",
        "\n",
        "![](https://miro.medium.com/max/815/1*UNtsSilztKXjLG99VXxSQw.png)"
      ]
    },
    {
      "cell_type": "markdown",
      "metadata": {
        "id": "I7PryUUFnLni"
      },
      "source": [
        "The GloVe model is a combination of count-based methods and prediction methods (e.g., Word2Vec). Model name, GloVe, stands for \"Global Vectors\", which reflects its idea: the method uses global information from corpus to learn vectors.\n",
        "\n",
        "As we saw earlier, the simplest count-based method uses co-occurrence counts to measure the association between word w and context c: N(w, c). GloVe also uses these counts to construct the loss function:\n",
        "\n",
        "<img src=\"https://lena-voita.github.io/resources/lectures/word_emb/glove/glove_loss-min.png\" width=\"60%\">\n",
        "\n",
        "Similar to Word2Vec, we also have different vectors for central and context words - these are our parameters. Additionally, the method has a scalar bias term for each word vector.\n",
        "\n",
        "What is especially interesting, is the way GloVe controls the influence of rare and frequent words: loss for each pair (w, c) is weighted in a way that\n",
        "\n",
        "- rare events are penalized,\n",
        "- very frequent events are not over-weighted."
      ]
    },
    {
      "cell_type": "markdown",
      "metadata": {
        "id": "jQUrBz1XnLni"
      },
      "source": [
        "- Given the words i = ice and j = steam, we want to study a ratio of co-occurrence probabilities with some probe word k = solid. We can expect the co-occurrence between the word i and the word k (Pik) being great over Pjk. There, the ratio Pik Pjk should be great.\n",
        "- We describe this ratio by the following formula :\n",
        "\n",
        "![](https://miro.medium.com/max/558/1*AcKvGnmM-cDzAedprZ6xQg.png)\n",
        "\n",
        "Which, as shown by the paper, can be simplified as :\n",
        "\n",
        "![](https://miro.medium.com/max/742/1*xQTMu8gvndlpc8tZ4Y2CCA.png)\n",
        "\n",
        "Which resolution is closely related to LSA, and older method.\n",
        "\n",
        "![](https://miro.medium.com/max/1400/1*GRlFCi7jKegCkVnt4RUDMQ.png)\n",
        "Co-occurrence probabilities and ratio with the words ice and steam in function of solid, gas, water and fashion. Since ice is more related to solid than steam, the co-occurrence ratio is high. This is the contrary considering the probe word steam. They are both equally related to water (highly) and to fashion (vaguely) so the co-occurrence ratio is approximately equals to 1. (https://www.aclweb.org/anthology/D14-1162/)"
      ]
    },
    {
      "cell_type": "markdown",
      "metadata": {
        "id": "YLEs-BGQnLnj"
      },
      "source": [
        "### Applying GloVe features for Machine Learning Tasks\n",
        "\n",
        "- Let’s try and leverage GloVe based embeddings for our document clustering task. \n",
        "- The very popular spacy framework comes with capabilities to leverage GloVe embeddings based on different language models. \n",
        "- You can also get pre-trained word vectors and load them up as needed using gensim or spacy. \n",
        "- We will first install spacy and use the en_vectors_web_lg model which consists of 300-dimensional word vectors trained on Common Crawl with GloVe."
      ]
    },
    {
      "cell_type": "code",
      "execution_count": null,
      "metadata": {
        "id": "nPnXqVCknLnj"
      },
      "outputs": [],
      "source": [
        "#  python -m spacy download en_core_web_lg\n",
        "import spacy\n",
        "\n",
        "nlp = spacy.load('en_core_web_sm')\n",
        "\n",
        "total_vectors = len(nlp.vocab.vectors)\n",
        "print('Total word vectors:', total_vectors)"
      ]
    },
    {
      "cell_type": "code",
      "execution_count": null,
      "metadata": {
        "id": "_y07CoJ4nLnj"
      },
      "outputs": [],
      "source": [
        "unique_words = list(set([word for sublist in [doc.split() for doc in norm_corpus] for word in sublist]))\n",
        "\n",
        "word_glove_vectors = np.array([nlp(word).vector for word in unique_words])\n",
        "pd.DataFrame(word_glove_vectors, index=unique_words)"
      ]
    },
    {
      "cell_type": "markdown",
      "metadata": {
        "id": "o7TJjFhUnLnj"
      },
      "source": [
        "We can now use t-SNE to visualize these embeddings similar to what we did using our Word2Vec embeddings.\n"
      ]
    },
    {
      "cell_type": "code",
      "execution_count": null,
      "metadata": {
        "id": "mHFIqPX3nLnj"
      },
      "outputs": [],
      "source": [
        "from sklearn.manifold import TSNE\n",
        "\n",
        "tsne = TSNE(n_components=2, random_state=0, n_iter=5000, perplexity=3)\n",
        "np.set_printoptions(suppress=True)\n",
        "T = tsne.fit_transform(word_glove_vectors)\n",
        "labels = unique_words\n",
        "\n",
        "plt.figure(figsize=(12, 6))\n",
        "plt.scatter(T[:, 0], T[:, 1], c='orange', edgecolors='r')\n",
        "for label, x, y in zip(labels, T[:, 0], T[:, 1]):\n",
        "    plt.annotate(label, xy=(x+1, y+1), xytext=(0, 0), textcoords='offset points')"
      ]
    },
    {
      "cell_type": "markdown",
      "metadata": {
        "id": "jkXUkhrDnLnj"
      },
      "source": [
        "The beauty of spacy is that it will automatically provide you the averaged embeddings for words in each document without having to implement a function like we did in Word2Vec. We will leverage the same to get document features for our corpus and use k-means clustering to cluster our documents."
      ]
    },
    {
      "cell_type": "markdown",
      "metadata": {
        "id": "UUZZqCHPnLnk"
      },
      "source": [
        "from sklearn.cluster import KMeans\n",
        "\n",
        "doc_glove_vectors = np.array([nlp(str(doc)).vector for doc in norm_corpus])\n",
        "\n",
        "km = KMeans(n_clusters=3, random_state=0)\n",
        "km.fit_transform(doc_glove_vectors)\n",
        "cluster_labels = km.labels_\n",
        "cluster_labels = pd.DataFrame(cluster_labels, columns=['ClusterLabel'])\n",
        "pd.concat([corpus_df, cluster_labels], axis=1)"
      ]
    },
    {
      "cell_type": "markdown",
      "metadata": {
        "id": "zqEp9jW8nLnk"
      },
      "source": [
        "We see consistent clusters similar to what we obtained from our Word2Vec model which is good! The GloVe model claims to perform better than the Word2Vec model in many scenarios as illustrated in the following graph from the original paper by Pennington el al.\n",
        "\n",
        "![](https://miro.medium.com/max/1136/1*M84ros1yMC7azUtUyJnONw.png)"
      ]
    },
    {
      "cell_type": "markdown",
      "metadata": {
        "id": "jwCbZAF-nLnk"
      },
      "source": [
        "## [Convert Glove vector to word2vec](https://radimrehurek.com/gensim/scripts/glove2word2vec.html)"
      ]
    },
    {
      "cell_type": "code",
      "execution_count": null,
      "metadata": {
        "id": "aO4v8Hr6nLnk"
      },
      "outputs": [],
      "source": [
        "from gensim.test.utils import datapath, get_tmpfile\n",
        "from gensim.models import KeyedVectors\n",
        "from gensim.scripts.glove2word2vec import glove2word2vec\n",
        "\n",
        "glove_file = datapath('test_glove.txt')\n",
        "tmp_file = get_tmpfile(\"test_word2vec.txt\")\n",
        " _ = glove2word2vec(glove_file, tmp_file)\n",
        "\n",
        "model = KeyedVectors.load_word2vec_format(tmp_file)"
      ]
    },
    {
      "cell_type": "markdown",
      "metadata": {
        "id": "4gzqmjLbnLnk"
      },
      "source": [
        "[More Example](https://web.stanford.edu/class/cs224n/materials/Gensim%20word%20vector%20visualization.html)"
      ]
    },
    {
      "cell_type": "markdown",
      "metadata": {
        "id": "gRMkmpo8nLnk"
      },
      "source": [
        "# FastText\n",
        "\n",
        "- One major draw-back for word-embedding techniques like word2vec and glove was its inability to deal with out of corpus words. \n",
        "- These embedding techniques treat word as the minimal entity and try to learn their respective embedding vector. Hence in case there is a word that does not appear in the corpus word2vec or glove fails to get their vectorized representation. However fasttext follows the same skipgram and cbow model like word2vec.\n"
      ]
    },
    {
      "cell_type": "markdown",
      "metadata": {
        "id": "aUH0osumnLnl"
      },
      "source": [
        "## How FastText is better:\n",
        "\n",
        "- It treats each word as composed of n-grams. That is let us say value of n is 3 for the word ‘India’ we have ‘<in’, ‘ind’, ‘ndi’, ‘di>’ as the n-gram representation. \n",
        "- And for the word ‘India’ we can infer the whole vector as sum of the vector representation all the character n-grams.(Here it is assumed that the hyperparameter [minn] and [maxn] value is 3,where ‘minn’ and ‘maxn’ are the smallest and largest ngram respectively). The symbols ‘<’ and ‘>’ are special symbols and are appended to show the start and end of the token.(P.S < her > and ‘her’ are not the same.)\n",
        "- Fasttext can generate embedding for the words that does not appear in the training corpus. \n",
        "- This can be done by adding the character n-gram of all the n-gram representations. \n",
        "- For example,let’s say there is a word ‘commonly’ in the testing dataset,but doesn’t have any representation in the training set. \n",
        "- But training set has vector representation of all its n-grams. \n",
        "- So we can just average the vectorized representation of all its constituent n-grams.word. On the otherhand for a random word ‘fgghoio’ we can get the representation of by average all ngram characters(i.e ‘f’+ ‘g’ + ‘g’ + ‘h’ + ‘o’ + ‘i’ + ‘o’ here we have to keep the hyperparameter minn as 1)."
      ]
    },
    {
      "cell_type": "markdown",
      "metadata": {
        "id": "IRbK-v9NnLnl"
      },
      "source": [
        "## Applying FastText features for Machine Learning Tasks\n",
        "- The gensim package has nice wrappers providing us interfaces to leverage the FastText model available under the gensim.models.fasttext module.\n",
        "- Let’s apply this once again on our Bible corpus and look at our words of interest and their most similar words."
      ]
    },
    {
      "cell_type": "code",
      "execution_count": null,
      "metadata": {
        "id": "V1-kro2InLnl"
      },
      "outputs": [],
      "source": [
        "import pandas as pd\n",
        "import numpy as np\n",
        "import re\n",
        "import nltk\n",
        "import matplotlib.pyplot as plt\n",
        "pd.options.display.max_colwidth = 200\n",
        "%matplotlib inline"
      ]
    },
    {
      "cell_type": "code",
      "execution_count": null,
      "metadata": {
        "id": "HqAuUTpxnLnl"
      },
      "outputs": [],
      "source": [
        "from nltk.corpus import gutenberg\n",
        "from string import punctuation\n",
        "\n",
        "wpt = nltk.WordPunctTokenizer()\n",
        "stop_words = nltk.corpus.stopwords.words('english')\n",
        "\n",
        "def normalize_document(doc):\n",
        "    # lower case and remove special characters\\whitespaces\n",
        "    doc = re.sub(r'[^a-zA-Z\\s]', '', doc, re.I|re.A)\n",
        "    doc = doc.lower()\n",
        "    doc = doc.strip()\n",
        "    # tokenize document\n",
        "    tokens = wpt.tokenize(doc)\n",
        "    # filter stopwords out of document\n",
        "    filtered_tokens = [token for token in tokens if token not in stop_words]\n",
        "    # re-create document from filtered tokens\n",
        "    doc = ' '.join(filtered_tokens)\n",
        "    return doc\n",
        "\n",
        "normalize_corpus = np.vectorize(normalize_document)\n"
      ]
    },
    {
      "cell_type": "code",
      "execution_count": null,
      "metadata": {
        "id": "36L7rH37nLnl",
        "outputId": "af1f8c1e-4856-489e-eaca-6628169422a1"
      },
      "outputs": [
        {
          "name": "stdout",
          "output_type": "stream",
          "text": [
            "Total lines: 30103\n",
            "\n",
            "Sample line: ['1', ':', '6', 'And', 'God', 'said', ',', 'Let', 'there', 'be', 'a', 'firmament', 'in', 'the', 'midst', 'of', 'the', 'waters', ',', 'and', 'let', 'it', 'divide', 'the', 'waters', 'from', 'the', 'waters', '.']\n",
            "\n",
            "Processed line: god said let firmament midst waters let divide waters waters\n"
          ]
        }
      ],
      "source": [
        "bible = gutenberg.sents('bible-kjv.txt') \n",
        "remove_terms = punctuation + '0123456789'\n",
        "\n",
        "norm_bible = [[word.lower() for word in sent if word not in remove_terms] for sent in bible]\n",
        "norm_bible = [' '.join(tok_sent) for tok_sent in norm_bible]\n",
        "norm_bible = filter(None, normalize_corpus(norm_bible))\n",
        "norm_bible = [tok_sent for tok_sent in norm_bible if len(tok_sent.split()) > 2]\n",
        "\n",
        "print('Total lines:', len(bible))\n",
        "print('\\nSample line:', bible[10])\n",
        "print('\\nProcessed line:', norm_bible[10])"
      ]
    },
    {
      "cell_type": "code",
      "execution_count": null,
      "metadata": {
        "id": "dKpvza0FnLnm",
        "outputId": "bb059d04-75f4-4445-f8a5-3a4fba876e24"
      },
      "outputs": [
        {
          "name": "stderr",
          "output_type": "stream",
          "text": [
            "/home/hpshin/.local/lib/python3.6/site-packages/gensim/matutils.py:737: FutureWarning: Conversion of the second argument of issubdtype from `int` to `np.signedinteger` is deprecated. In future, it will be treated as `np.int64 == np.dtype(int).type`.\n",
            "  if np.issubdtype(vec.dtype, np.int):\n"
          ]
        },
        {
          "data": {
            "text/plain": [
              "{'god': ['lord', 'unto', 'therefore', 'jesus', 'christ'],\n",
              " 'jesus': ['christ', 'god', 'disciples', 'faith', 'believe'],\n",
              " 'noah': ['methuselah', 'shem', 'milcah', 'mahalaleel', 'flood'],\n",
              " 'egypt': ['land', 'pharaoh', 'egyptians', 'israel', 'assyrian'],\n",
              " 'john': ['baptist', 'peter', 'baptize', 'philip', 'james'],\n",
              " 'gospel': ['preached', 'preach', 'christ', 'preaching', 'gentiles'],\n",
              " 'moses': ['aaron', 'commanded', 'congregation', 'spake', 'israel'],\n",
              " 'famine': ['pestilence', 'sword', 'sojourn', 'blasted', 'land']}"
            ]
          },
          "execution_count": 28,
          "metadata": {},
          "output_type": "execute_result"
        }
      ],
      "source": [
        "from gensim.models.fasttext import FastText\n",
        "\n",
        "wpt = nltk.WordPunctTokenizer()\n",
        "tokenized_corpus = [wpt.tokenize(document) for document in norm_bible]\n",
        "\n",
        "# Set values for various parameters\n",
        "feature_size = 100    # Word vector dimensionality  \n",
        "window_context = 50          # Context window size                                                                                    \n",
        "min_word_count = 5   # Minimum word count                        \n",
        "sample = 1e-3   # Downsample setting for frequent words\n",
        "\n",
        "# sg decides whether to use the skip-gram model (1) or CBOW (0)\n",
        "ft_model = FastText(tokenized_corpus, size=feature_size, window=window_context, \n",
        "                    min_count=min_word_count,sample=sample, sg=1, iter=50)\n",
        "                    \n",
        "                    \n",
        "# view similar words based on gensim's FastText model\n",
        "similar_words = {search_term: [item[0] for item in ft_model.wv.most_similar([search_term], topn=5)]\n",
        "                  for search_term in ['god', 'jesus', 'noah', 'egypt', 'john', 'gospel', 'moses','famine']}\n",
        "similar_words                    "
      ]
    },
    {
      "cell_type": "markdown",
      "metadata": {
        "id": "o8MsJEHRnLnm"
      },
      "source": [
        "- You can see a lot of similarity in the results with our Word2Vec model with relevant similar words for each of our words of interest. \n",
        "- Do you notice any interesting associations and similarities?\n",
        "![](https://miro.medium.com/max/868/1*-9s6TOw0lySpMQsMcDWPNA.png)"
      ]
    },
    {
      "cell_type": "markdown",
      "metadata": {
        "id": "6CKlSK_AnLnm"
      },
      "source": [
        "- Let’s now use Principal Component Analysis (PCA) to reduce the word embedding dimensions to 2-D and then visualize the same."
      ]
    },
    {
      "cell_type": "code",
      "execution_count": null,
      "metadata": {
        "id": "h66yTN8lnLnm",
        "outputId": "df1aa013-dede-4e19-9c83-bd43f0f75d17"
      },
      "outputs": [
        {
          "data": {
            "image/png": "[encoded data removed]",
            "text/plain": [
              "<Figure size 1296x720 with 1 Axes>"
            ]
          },
          "metadata": {
            "needs_background": "light"
          },
          "output_type": "display_data"
        }
      ],
      "source": [
        "from sklearn.decomposition import PCA\n",
        "\n",
        "words = sum([[k] + v for k, v in similar_words.items()], [])\n",
        "wvs = ft_model.wv[words]\n",
        "\n",
        "pca = PCA(n_components=2)\n",
        "np.set_printoptions(suppress=True)\n",
        "P = pca.fit_transform(wvs)\n",
        "labels = words\n",
        "\n",
        "plt.figure(figsize=(18, 10))\n",
        "plt.scatter(P[:, 0], P[:, 1], c='lightgreen', edgecolors='g')\n",
        "for label, x, y in zip(labels, P[:, 0], P[:, 1]):\n",
        "    plt.annotate(label, xy=(x+0.06, y+0.03), xytext=(0, 0), textcoords='offset points')"
      ]
    },
    {
      "cell_type": "markdown",
      "metadata": {
        "id": "6DqdRJf9nLnm"
      },
      "source": [
        "- We can see a lot of interesting patterns! Noah, his son Shem and grandfather Methuselah are close to each other. \n",
        "- We also see God associated with Moses and Egypt where it endured the Biblical plagues including famine and pestilence. \n",
        "- Also Jesus and some of his disciples are associated close to each other."
      ]
    },
    {
      "cell_type": "markdown",
      "metadata": {
        "id": "nbui7RCLnLnn"
      },
      "source": [
        "- To access any of the word embeddings you can just index the model with the word as follows."
      ]
    },
    {
      "cell_type": "code",
      "execution_count": null,
      "metadata": {
        "id": "6OJBiqI6nLnn",
        "outputId": "625ebfcf-a688-40d4-fc3b-10000055de7a"
      },
      "outputs": [
        {
          "data": {
            "text/plain": [
              "array([-0.15072513, -0.12347995, -0.26854995,  0.28881863,  0.23414755,\n",
              "       -0.13158289,  0.04248816,  0.07348091,  0.03258998, -0.14387672,\n",
              "       -0.0658362 ,  0.07441247, -0.06252605, -0.14031555, -0.26373476,\n",
              "        0.03851669, -0.19017892, -0.61458576, -0.12186819,  0.28144825,\n",
              "       -0.16867603,  0.50595707,  0.8051687 ,  0.28135642,  0.24270289,\n",
              "       -0.3714708 ,  0.18234256, -0.23688208, -0.4507442 ,  0.20268059,\n",
              "        0.26742   , -0.25687358, -0.1937281 , -0.1838407 , -0.06485114,\n",
              "        0.5407289 ,  0.31433406,  0.18890323, -0.12365936,  0.12570415,\n",
              "        0.24977835,  0.662965  , -0.23410748,  0.03047163, -0.09126829,\n",
              "       -0.09078643, -0.20237178,  0.59291846,  0.06576438, -0.18525656,\n",
              "        0.4391428 , -0.06443895,  0.16773154, -0.20367385, -0.05653538,\n",
              "       -0.3287625 , -0.18029325,  0.24568233, -0.324524  , -0.16327195,\n",
              "        0.61302966, -0.39652544,  0.05185838,  0.07507041,  0.36456737,\n",
              "       -0.05147258,  0.40288955,  0.23715755,  0.05839573, -0.16015269,\n",
              "       -0.06284775, -0.04965369,  0.02903572,  0.13281633,  0.13407336,\n",
              "       -0.17373012,  0.06667905,  0.332847  ,  0.13625923, -0.06419511,\n",
              "        0.22523165,  0.00981842, -0.181803  , -0.01083896, -0.12840721,\n",
              "        0.42628524,  0.21334474, -0.09639551,  0.15037535,  0.04141702,\n",
              "       -0.0294172 , -0.23241314,  0.12298968, -0.6720631 , -0.1648904 ,\n",
              "        0.01630428,  0.00588342, -0.21918648, -0.18684472,  0.29113013],\n",
              "      dtype=float32)"
            ]
          },
          "execution_count": 30,
          "metadata": {},
          "output_type": "execute_result"
        }
      ],
      "source": [
        "ft_model.wv['jesus']"
      ]
    },
    {
      "cell_type": "markdown",
      "metadata": {
        "id": "kQISqsjbnLnn"
      },
      "source": [
        "- Having these embeddings, we can perform some interesting natural language tasks. \n",
        "- One of these would be to find out similarity between different words (entities)."
      ]
    },
    {
      "cell_type": "code",
      "execution_count": null,
      "metadata": {
        "id": "shAT8a3EnLnn",
        "outputId": "e4728f04-4818-45a8-d6ed-52585fceed53"
      },
      "outputs": [
        {
          "name": "stdout",
          "output_type": "stream",
          "text": [
            "0.3357255\n",
            "0.6597125\n"
          ]
        },
        {
          "name": "stderr",
          "output_type": "stream",
          "text": [
            "/home/hpshin/.local/lib/python3.6/site-packages/gensim/matutils.py:737: FutureWarning: Conversion of the second argument of issubdtype from `int` to `np.signedinteger` is deprecated. In future, it will be treated as `np.int64 == np.dtype(int).type`.\n",
            "  if np.issubdtype(vec.dtype, np.int):\n"
          ]
        }
      ],
      "source": [
        "print(ft_model.wv.similarity(w1='god', w2='satan'))\n",
        "print(ft_model.wv.similarity(w1='god', w2='jesus'))"
      ]
    },
    {
      "cell_type": "markdown",
      "metadata": {
        "id": "na1XJ4-nnLnn"
      },
      "source": [
        "- We can see that ‘god’ is more closely associated with ‘jesus’ rather than ‘satan’ based on the text in our Bible corpus. Quite relevant!"
      ]
    },
    {
      "cell_type": "markdown",
      "metadata": {
        "id": "0V1gBMMNnLnn"
      },
      "source": [
        "- Considering word embeddings being present, we can even find out odd words from a bunch of words as follows."
      ]
    },
    {
      "cell_type": "code",
      "execution_count": null,
      "metadata": {
        "id": "pC_jKIbPnLnn",
        "outputId": "23413ab9-e8d9-492b-8fe9-807b39b004bc"
      },
      "outputs": [
        {
          "name": "stdout",
          "output_type": "stream",
          "text": [
            "Odd one out for [ god jesus satan john ]: satan\n",
            "Odd one out for [ john peter james judas ]: judas\n"
          ]
        },
        {
          "name": "stderr",
          "output_type": "stream",
          "text": [
            "/home/hpshin/.local/lib/python3.6/site-packages/gensim/models/keyedvectors.py:895: FutureWarning: arrays to stack must be passed as a \"sequence\" type such as list or tuple. Support for non-sequence iterables such as generators is deprecated as of NumPy 1.16 and will raise an error in the future.\n",
            "  vectors = vstack(self.word_vec(word, use_norm=True) for word in used_words).astype(REAL)\n"
          ]
        }
      ],
      "source": [
        "st1 = \"god jesus satan john\"\n",
        "print('Odd one out for [',st1, ']:',  \n",
        "      ft_model.wv.doesnt_match(st1.split()))\n",
        "st2 = \"john peter james judas\"\n",
        "print('Odd one out for [',st2, ']:', \n",
        "      ft_model.wv.doesnt_match(st2.split()))"
      ]
    },
    {
      "cell_type": "markdown",
      "metadata": {
        "id": "vY5bgbNKnLno"
      },
      "source": [
        "## Evaluation of Word Embeddings\n",
        "\n",
        "How can we understand that one method for getting word embeddings is better than another? There are two types of evaluation (not only for word embeddings): intrinsic and extrinsic.\n",
        "\n",
        "### Intrinsic Evaluation: Based on Internal Properties\n",
        "\n",
        "<img src=\"https://lena-voita.github.io/resources/lectures/word_emb/intrinsic_evaluation-min.png\" width=\"40%\" align=\"right\">\n",
        "\n",
        "This type of evaluation looks at the internal properties of embeddings, i.e. how well they capture meaning. Specifically, in the Analysis and Interpretability section, we will discuss in detail how we can evaluate embeddings on word similarity and word analogy tasks.\n",
        "\n",
        "\n"
      ]
    },
    {
      "cell_type": "markdown",
      "metadata": {
        "id": "74NRMkHbnLno"
      },
      "source": [
        "### Extrinsic Evaluation: On a Real Task\n",
        "\n",
        "\n",
        "<img src=\"https://lena-voita.github.io/resources/lectures/word_emb/extrinsic_evaluation-min.png\" width=\"40%\" align=\"right\">\n",
        "\n",
        "This type of evaluation tells which embeddings are better for the task you really care about (e.g., text classification, coreference resolution, etc.).\n",
        "\n",
        "In this setting, you have to train the model/algorithm for the real task several times: one model for each of the embeddings you want to evaluate. Then, look at the quality of these models to decide which embeddings are better."
      ]
    },
    {
      "cell_type": "markdown",
      "metadata": {
        "id": "MpOII3oTnLno"
      },
      "source": [
        "### How to Choose?\n",
        "\n",
        "<img src=\"https://lena-voita.github.io/resources/lectures/word_emb/evaluation_tradeoff-min.png\" width=\"40%\" align=\"right\">\n",
        "\n",
        "One thing you have to get used to is that there is no perfect solution and no right answer for all situations: it always depends on many things.\n",
        "\n",
        "Regarding evaluation, you usually care about quality of the task you want to solve. Therefore, you are likely to be more interested in extrinsic evaluation. However, real-task models usually require a lot of time and resources to train, and training several of them may be too expensive.\n",
        "\n",
        "\n",
        "\n"
      ]
    },
    {
      "cell_type": "markdown",
      "metadata": {
        "id": "Qp44O3WdnLno"
      },
      "source": [
        "## Analysis and Interpretability\n",
        "\n",
        "### Take a Walk Through Space... Semantic Space!\n",
        "\n",
        "Semantic spaces aim to create representations of natural language that capture meaning. We can say that (good) word embeddings form semantic space and will refer to a set of word vectors in a multi-dimensional space as \"semantic space\".\n",
        "\n",
        "Below is shown semantic space formed by GloVe vectors trained on twitter data (taken from gensim). Vectors were projected to two-dimensional space using t-SNE; these are only the top-3k most frequent words.\n",
        "\n",
        "How to: Walk through semantic space and try to find:\n",
        "\n",
        "- language clusters: Spanish, Arabic, Russian, English. Can you find more languages?\n",
        "- clusters for: food, family, names, geographical locations. What else can you find?\n",
        "\n",
        "![bokeh_plot.png](attachment:bokeh_plot.png)\n",
        "\n",
        "\n"
      ]
    },
    {
      "cell_type": "markdown",
      "metadata": {
        "id": "s0egspIunLno"
      },
      "source": [
        "## Nearest Neighbors\n",
        "\n",
        "<img src=\"https://lena-voita.github.io/resources/lectures/word_emb/analysis/frog-min.png\" width=\"40%\" align=\"right\">\n",
        "\n",
        "\n",
        "\n",
        "During your walk through semantic space, you probably noticed that the points (vectors) which are nearby usually have close meaning. Sometimes, even rare words are understood very well. Look at the example: the model understood that words such as leptodactylidae or litoria are close to frog.\n",
        "\n",
        "### Word Similarity Benchmarks\n",
        "\n",
        "<img src=\"https://lena-voita.github.io/resources/lectures/word_emb/analysis/rare_words-min.png\" width=\"30%\" align=\"right\">\n",
        "\n",
        "\"Looking\" at nearest neighbors (by cosine similarity or Euclidean distance) is one of the methods to estimate the quality of the learned embeddings. There are several word similarity benchmarks (test sets). They consist of word pairs with a similarity score according to human judgments. The quality of embeddings is estimated as the correlation between the two similarity scores (from model and from humans)."
      ]
    },
    {
      "cell_type": "markdown",
      "metadata": {
        "id": "qAo-AKQrnLno"
      },
      "source": [
        "## Linear Structure\n",
        "\n",
        "<img src=\"https://lena-voita.github.io/resources/lectures/word_emb/analysis/king_example-min.png\" width=\"40%\" align=\"right\">\n",
        "\n",
        "While similarity results are encouraging, they are not surprising: all in all, the embeddings were trained specifically to reflect word similarity. What is surprising, is that many semantic and syntactic relationships between words are (almost) linear in word vector space.\n",
        "\n",
        "\n",
        "For example, the difference between king and queen is (almost) the same as between man and woman. Or a word that is similar to queen in the same sense that kings is similar to king turns out to be queens. The man-woman $\\approx$ king-queen example is probably the most popular one, but there are also many other relations and funny examples.\n",
        "\n",
        "Below are examples for the country-capital relation and a couple of syntactic relations.\n",
        "\n",
        "<img src=\"https://lena-voita.github.io/resources/lectures/word_emb/analysis/examples_both-min.png\" width=\"60%\">"
      ]
    },
    {
      "cell_type": "markdown",
      "metadata": {
        "id": "wg7Jel1gnLnp"
      },
      "source": [
        "### Word Analogy Benchmarks\n",
        "These near-linear relationships inspired a new type of evaluation: word analogy evaluation.\n",
        "\n",
        "<img src=\"https://lena-voita.github.io/resources/lectures/word_emb/analysis/analogy_task_v2-min.png\" width=\"50%\">\n",
        "\n",
        "Given two word pairs for the same relation, for example (man, woman) and (king, queen), the task is to check if we can identify one of the words based on the rest of them. Specifically, we have to check if the closest vector to king - man + woman corresponds to the word queen.\n",
        "\n",
        "Now there are several analogy benchmarks; these include the standard benchmarks (MSR + Google analogy test sets) and BATS (the Bigger Analogy Test Set).\n",
        "\n"
      ]
    },
    {
      "cell_type": "markdown",
      "metadata": {
        "id": "OSv_ed3ZnLnp"
      },
      "source": [
        "## Similarities across Languages\n",
        "\n",
        "We just saw that some relationships between words are (almost) linear in the embedding space. But what happens across languages? Turns out, relationships between semantic spaces are also (somewhat) linear: you can linearly map one semantic space to another so that corresponding words in the two languages match in the new, joint semantic space.\n",
        "\n",
        "<img src=\"https://lena-voita.github.io/resources/lectures/word_emb/analysis/cross_lingual_matching-min.png\" width=\"70%\">\n",
        "\n",
        "The figure above illustrates the approach proposed by Tomas Mikolov et al. in 2013 not long after the original Word2Vec. Formally, we are given a set of word pairs and their vector representations $\\{\\color{#88a635}{x_i}\\color{black}, \\color{#547dbf}{z_i}\\color{black} \\}_{i=1}^n$\n",
        ", where $\\color{#88a635}{x_i}$ and $\\color{#547dbf}{z_i}$ are vectors for i-th word in the source language and its translation in the target. We want to find a transformation matrix W such that $W\\color{#547dbf}{z_i}$ approximates $\\color{#88a635}{x_i}$\n",
        " : \"matches\" words from the dictionary. We pick  such that\n",
        " \n",
        " $$W = \\arg \\min\\limits_{W}\\sum\\limits_{i=1}^n\\parallel W\\color{#547dbf}{z_i}\\color{black} - \\color{#88a635}{x_i}\\color{black}\\parallel^2,$$\n",
        " \n",
        " and learn this matrix by gradient descent.\n",
        "\n",
        "In the original paper, the initial vocabulary consists of the 5k most frequent words with their translations, and the rest is learned.\n"
      ]
    },
    {
      "cell_type": "code",
      "execution_count": null,
      "metadata": {
        "id": "_Axh_4WGnLnp"
      },
      "outputs": [],
      "source": [
        ""
      ]
    }
  ],
  "metadata": {
    "kernelspec": {
      "display_name": "Python 3",
      "language": "python",
      "name": "python3"
    },
    "language_info": {
      "codemirror_mode": {
        "name": "ipython",
        "version": 3
      },
      "file_extension": ".py",
      "mimetype": "text/x-python",
      "name": "python",
      "nbconvert_exporter": "python",
      "pygments_lexer": "ipython3",
      "version": "3.6.8"
    },
    "colab": {
      "name": "EmbeddingsForNLP02WordEmbeddingsFinTech.ipynb",
      "provenance": [],
      "include_colab_link": true
    }
  },
  "nbformat": 4,
  "nbformat_minor": 0
}